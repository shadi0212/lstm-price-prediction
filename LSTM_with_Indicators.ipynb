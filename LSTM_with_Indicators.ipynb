{
 "cells": [
  {
   "cell_type": "code",
   "execution_count": 1,
   "id": "0b168b10-ae14-4679-a7cb-dd9860a328f9",
   "metadata": {},
   "outputs": [],
   "source": [
    "import pandas as pd\n",
    "import numpy as np\n",
    "from sklearn.preprocessing import StandardScaler, MinMaxScaler\n",
    "import matplotlib.pyplot as plt\n",
    "import seaborn as sns\n",
    "\n",
    "import datetime\n",
    "\n",
    "import torch\n",
    "import torch.nn as nn\n",
    "from torch import optim\n",
    "from torch.utils.data import DataLoader\n",
    "from torch.utils.data.dataset import Dataset\n",
    "import torch.nn.functional as F\n",
    "\n",
    "import ta\n",
    "from ta import add_all_ta_features\n",
    "from ta.utils import dropna"
   ]
  },
  {
   "cell_type": "markdown",
   "id": "95d6ee88-3952-48c8-a1a2-f8a1090af1a6",
   "metadata": {},
   "source": [
    "### 1. Read and visualize dataset"
   ]
  },
  {
   "cell_type": "code",
   "execution_count": 2,
   "id": "2e86d8c4-a57c-407d-8096-848ea873c0dc",
   "metadata": {},
   "outputs": [],
   "source": [
    "datasets = ['ali', 'copper', 'lead', 'nickel', 'zinc']\n",
    "dataset_idx = 0"
   ]
  },
  {
   "cell_type": "code",
   "execution_count": 3,
   "id": "80749632-40de-43d3-b9a9-e3b0b8a116ce",
   "metadata": {},
   "outputs": [
    {
     "data": {
      "text/html": [
       "<div>\n",
       "<style scoped>\n",
       "    .dataframe tbody tr th:only-of-type {\n",
       "        vertical-align: middle;\n",
       "    }\n",
       "\n",
       "    .dataframe tbody tr th {\n",
       "        vertical-align: top;\n",
       "    }\n",
       "\n",
       "    .dataframe thead th {\n",
       "        text-align: right;\n",
       "    }\n",
       "</style>\n",
       "<table border=\"1\" class=\"dataframe\">\n",
       "  <thead>\n",
       "    <tr style=\"text-align: right;\">\n",
       "      <th></th>\n",
       "      <th>date</th>\n",
       "      <th>PX_LAST</th>\n",
       "      <th>PX_HIGH</th>\n",
       "      <th>PX_LOW</th>\n",
       "      <th>PX_OPEN</th>\n",
       "      <th>PX_VOLUME</th>\n",
       "    </tr>\n",
       "  </thead>\n",
       "  <tbody>\n",
       "    <tr>\n",
       "      <th>3788</th>\n",
       "      <td>2018-12-25</td>\n",
       "      <td>1883.0</td>\n",
       "      <td>1883.0</td>\n",
       "      <td>1883.0</td>\n",
       "      <td>1883.0</td>\n",
       "      <td>NaN</td>\n",
       "    </tr>\n",
       "    <tr>\n",
       "      <th>3792</th>\n",
       "      <td>2019-01-01</td>\n",
       "      <td>1853.0</td>\n",
       "      <td>1853.0</td>\n",
       "      <td>1853.0</td>\n",
       "      <td>1853.0</td>\n",
       "      <td>NaN</td>\n",
       "    </tr>\n",
       "  </tbody>\n",
       "</table>\n",
       "</div>"
      ],
      "text/plain": [
       "           date  PX_LAST  PX_HIGH  PX_LOW  PX_OPEN  PX_VOLUME\n",
       "3788 2018-12-25   1883.0   1883.0  1883.0   1883.0        NaN\n",
       "3792 2019-01-01   1853.0   1853.0  1853.0   1853.0        NaN"
      ]
     },
     "execution_count": 3,
     "metadata": {},
     "output_type": "execute_result"
    }
   ],
   "source": [
    "dataset_file = \"./Data/{}.csv\".format(datasets[dataset_idx])\n",
    "df = pd.read_csv(dataset_file, index_col=0)\n",
    "df['date'] = pd.to_datetime(df['date'])\n",
    "df[df.isna().any(axis=1)]"
   ]
  },
  {
   "cell_type": "code",
   "execution_count": 4,
   "id": "dc2b0730-9f5d-49dd-9c37-461a28c3f5d7",
   "metadata": {},
   "outputs": [
    {
     "data": {
      "text/html": [
       "<div>\n",
       "<style scoped>\n",
       "    .dataframe tbody tr th:only-of-type {\n",
       "        vertical-align: middle;\n",
       "    }\n",
       "\n",
       "    .dataframe tbody tr th {\n",
       "        vertical-align: top;\n",
       "    }\n",
       "\n",
       "    .dataframe thead th {\n",
       "        text-align: right;\n",
       "    }\n",
       "</style>\n",
       "<table border=\"1\" class=\"dataframe\">\n",
       "  <thead>\n",
       "    <tr style=\"text-align: right;\">\n",
       "      <th></th>\n",
       "      <th>PX_LAST</th>\n",
       "      <th>PX_HIGH</th>\n",
       "      <th>PX_LOW</th>\n",
       "      <th>PX_OPEN</th>\n",
       "      <th>PX_VOLUME</th>\n",
       "    </tr>\n",
       "    <tr>\n",
       "      <th>date</th>\n",
       "      <th></th>\n",
       "      <th></th>\n",
       "      <th></th>\n",
       "      <th></th>\n",
       "      <th></th>\n",
       "    </tr>\n",
       "  </thead>\n",
       "  <tbody>\n",
       "    <tr>\n",
       "      <th>2004-01-02</th>\n",
       "      <td>1619.0</td>\n",
       "      <td>1623.5</td>\n",
       "      <td>1600.0</td>\n",
       "      <td>1604.0</td>\n",
       "      <td>1236.0</td>\n",
       "    </tr>\n",
       "    <tr>\n",
       "      <th>2004-01-05</th>\n",
       "      <td>1615.0</td>\n",
       "      <td>1623.0</td>\n",
       "      <td>1608.0</td>\n",
       "      <td>1621.0</td>\n",
       "      <td>991.0</td>\n",
       "    </tr>\n",
       "    <tr>\n",
       "      <th>2004-01-06</th>\n",
       "      <td>1608.0</td>\n",
       "      <td>1623.0</td>\n",
       "      <td>1603.0</td>\n",
       "      <td>1618.0</td>\n",
       "      <td>718.0</td>\n",
       "    </tr>\n",
       "    <tr>\n",
       "      <th>2004-01-07</th>\n",
       "      <td>1600.0</td>\n",
       "      <td>1609.0</td>\n",
       "      <td>1600.0</td>\n",
       "      <td>1606.0</td>\n",
       "      <td>366.0</td>\n",
       "    </tr>\n",
       "    <tr>\n",
       "      <th>2004-01-08</th>\n",
       "      <td>1620.0</td>\n",
       "      <td>1623.0</td>\n",
       "      <td>1594.0</td>\n",
       "      <td>1603.0</td>\n",
       "      <td>870.0</td>\n",
       "    </tr>\n",
       "  </tbody>\n",
       "</table>\n",
       "</div>"
      ],
      "text/plain": [
       "            PX_LAST  PX_HIGH  PX_LOW  PX_OPEN  PX_VOLUME\n",
       "date                                                    \n",
       "2004-01-02   1619.0   1623.5  1600.0   1604.0     1236.0\n",
       "2004-01-05   1615.0   1623.0  1608.0   1621.0      991.0\n",
       "2004-01-06   1608.0   1623.0  1603.0   1618.0      718.0\n",
       "2004-01-07   1600.0   1609.0  1600.0   1606.0      366.0\n",
       "2004-01-08   1620.0   1623.0  1594.0   1603.0      870.0"
      ]
     },
     "execution_count": 4,
     "metadata": {},
     "output_type": "execute_result"
    }
   ],
   "source": [
    "# Clean NaN values\n",
    "df = dropna(df)\n",
    "df.set_index('date', drop=True, inplace=True)\n",
    "df.head()"
   ]
  },
  {
   "cell_type": "code",
   "execution_count": 5,
   "id": "d302720d-7964-4ae7-b210-011c3898a3b8",
   "metadata": {},
   "outputs": [
    {
     "name": "stdout",
     "output_type": "stream",
     "text": [
      "<class 'pandas.core.frame.DataFrame'>\n",
      "DatetimeIndex: 5444 entries, 2004-01-02 to 2025-07-18\n",
      "Data columns (total 5 columns):\n",
      " #   Column     Non-Null Count  Dtype  \n",
      "---  ------     --------------  -----  \n",
      " 0   PX_LAST    5444 non-null   float64\n",
      " 1   PX_HIGH    5444 non-null   float64\n",
      " 2   PX_LOW     5444 non-null   float64\n",
      " 3   PX_OPEN    5444 non-null   float64\n",
      " 4   PX_VOLUME  5444 non-null   float64\n",
      "dtypes: float64(5)\n",
      "memory usage: 255.2 KB\n"
     ]
    }
   ],
   "source": [
    "df.info()"
   ]
  },
  {
   "cell_type": "code",
   "execution_count": 6,
   "id": "af9be34f-ce60-4cde-99a0-f0263b7c1492",
   "metadata": {},
   "outputs": [],
   "source": [
    "# Add all ta features\n",
    "# df = add_all_ta_features(df, open=\"PX_OPEN\", high=\"PX_HIGH\", low=\"PX_LOW\", close=\"PX_LAST\", volume=\"PX_VOLUME\")\n",
    "# df.columns\n",
    "\n",
    "df['SMA20'] = ta.trend.sma_indicator(df.PX_LAST, window=20, fillna=False)\n",
    "df['SMA50'] = ta.trend.sma_indicator(df.PX_LAST, window=50, fillna=False)\n",
    "\n",
    "df['EMA20'] = ta.trend.ema_indicator(df.PX_LAST, window=20, fillna=False)\n",
    "df['EMA50'] = ta.trend.ema_indicator(df.PX_LAST, window=50, fillna=False)\n",
    "\n",
    "df['ADX'] = ta.trend.adx(df['PX_HIGH'], df['PX_LOW'], df['PX_LAST'], window=14, fillna=False)\n",
    "\n",
    "df['MACD'] = ta.trend.macd(df['PX_HIGH'], window_slow=26, window_fast=12, fillna=False)\n",
    "df['MACD_SIG'] = ta.trend.macd_signal(df['PX_HIGH'], window_slow=26, window_fast=12, window_sign=9, fillna=False)\n",
    "\n",
    "df['RSI'] = ta.momentum.rsi(df['PX_HIGH'], window=14, fillna=False)\n",
    "\n",
    "df['upper'] = ta.volatility.bollinger_hband(df['PX_HIGH'], window=20, window_dev=2, fillna=False)\n",
    "df['mid'] = ta.volatility.bollinger_mavg(df['PX_HIGH'], window=20, fillna=False)\n",
    "df['lower'] = ta.volatility.bollinger_lband(df['PX_HIGH'], window=20, window_dev=2, fillna=False)"
   ]
  },
  {
   "cell_type": "code",
   "execution_count": 7,
   "id": "4d26889b-4a42-4684-853b-de46db0a0cd2",
   "metadata": {},
   "outputs": [
    {
     "data": {
      "text/html": [
       "<div>\n",
       "<style scoped>\n",
       "    .dataframe tbody tr th:only-of-type {\n",
       "        vertical-align: middle;\n",
       "    }\n",
       "\n",
       "    .dataframe tbody tr th {\n",
       "        vertical-align: top;\n",
       "    }\n",
       "\n",
       "    .dataframe thead th {\n",
       "        text-align: right;\n",
       "    }\n",
       "</style>\n",
       "<table border=\"1\" class=\"dataframe\">\n",
       "  <thead>\n",
       "    <tr style=\"text-align: right;\">\n",
       "      <th></th>\n",
       "      <th>PX_LAST</th>\n",
       "      <th>PX_HIGH</th>\n",
       "      <th>PX_LOW</th>\n",
       "      <th>PX_OPEN</th>\n",
       "      <th>PX_VOLUME</th>\n",
       "      <th>SMA20</th>\n",
       "      <th>SMA50</th>\n",
       "      <th>EMA20</th>\n",
       "      <th>EMA50</th>\n",
       "      <th>ADX</th>\n",
       "      <th>MACD</th>\n",
       "      <th>MACD_SIG</th>\n",
       "      <th>RSI</th>\n",
       "      <th>upper</th>\n",
       "      <th>mid</th>\n",
       "      <th>lower</th>\n",
       "    </tr>\n",
       "    <tr>\n",
       "      <th>date</th>\n",
       "      <th></th>\n",
       "      <th></th>\n",
       "      <th></th>\n",
       "      <th></th>\n",
       "      <th></th>\n",
       "      <th></th>\n",
       "      <th></th>\n",
       "      <th></th>\n",
       "      <th></th>\n",
       "      <th></th>\n",
       "      <th></th>\n",
       "      <th></th>\n",
       "      <th></th>\n",
       "      <th></th>\n",
       "      <th></th>\n",
       "      <th></th>\n",
       "    </tr>\n",
       "  </thead>\n",
       "  <tbody>\n",
       "    <tr>\n",
       "      <th>2004-03-11</th>\n",
       "      <td>1689.0</td>\n",
       "      <td>1690.0</td>\n",
       "      <td>1660.0</td>\n",
       "      <td>1667.0</td>\n",
       "      <td>1515.0</td>\n",
       "      <td>1707.625</td>\n",
       "      <td>1666.95</td>\n",
       "      <td>1688.307137</td>\n",
       "      <td>1673.987500</td>\n",
       "      <td>35.887244</td>\n",
       "      <td>-2.583332</td>\n",
       "      <td>7.677975</td>\n",
       "      <td>47.792100</td>\n",
       "      <td>1785.940857</td>\n",
       "      <td>1720.425</td>\n",
       "      <td>1654.909143</td>\n",
       "    </tr>\n",
       "    <tr>\n",
       "      <th>2004-03-12</th>\n",
       "      <td>1664.5</td>\n",
       "      <td>1691.0</td>\n",
       "      <td>1663.0</td>\n",
       "      <td>1691.0</td>\n",
       "      <td>1152.0</td>\n",
       "      <td>1704.850</td>\n",
       "      <td>1667.86</td>\n",
       "      <td>1686.039790</td>\n",
       "      <td>1673.615441</td>\n",
       "      <td>33.664713</td>\n",
       "      <td>-2.777353</td>\n",
       "      <td>5.586910</td>\n",
       "      <td>48.080923</td>\n",
       "      <td>1785.431428</td>\n",
       "      <td>1718.725</td>\n",
       "      <td>1652.018572</td>\n",
       "    </tr>\n",
       "    <tr>\n",
       "      <th>2004-03-15</th>\n",
       "      <td>1673.0</td>\n",
       "      <td>1676.0</td>\n",
       "      <td>1662.0</td>\n",
       "      <td>1671.0</td>\n",
       "      <td>636.0</td>\n",
       "      <td>1702.175</td>\n",
       "      <td>1669.02</td>\n",
       "      <td>1684.797905</td>\n",
       "      <td>1673.591306</td>\n",
       "      <td>31.553195</td>\n",
       "      <td>-4.094295</td>\n",
       "      <td>3.650669</td>\n",
       "      <td>44.136615</td>\n",
       "      <td>1784.832383</td>\n",
       "      <td>1715.925</td>\n",
       "      <td>1647.017617</td>\n",
       "    </tr>\n",
       "    <tr>\n",
       "      <th>2004-03-16</th>\n",
       "      <td>1692.0</td>\n",
       "      <td>1695.0</td>\n",
       "      <td>1675.0</td>\n",
       "      <td>1683.0</td>\n",
       "      <td>1029.0</td>\n",
       "      <td>1699.575</td>\n",
       "      <td>1670.70</td>\n",
       "      <td>1685.483819</td>\n",
       "      <td>1674.313216</td>\n",
       "      <td>30.383330</td>\n",
       "      <td>-3.563759</td>\n",
       "      <td>2.207783</td>\n",
       "      <td>49.758799</td>\n",
       "      <td>1781.555225</td>\n",
       "      <td>1713.425</td>\n",
       "      <td>1645.294775</td>\n",
       "    </tr>\n",
       "    <tr>\n",
       "      <th>2004-03-17</th>\n",
       "      <td>1668.0</td>\n",
       "      <td>1697.0</td>\n",
       "      <td>1665.0</td>\n",
       "      <td>1688.0</td>\n",
       "      <td>850.0</td>\n",
       "      <td>1696.000</td>\n",
       "      <td>1672.06</td>\n",
       "      <td>1683.818694</td>\n",
       "      <td>1674.065639</td>\n",
       "      <td>28.791736</td>\n",
       "      <td>-2.947939</td>\n",
       "      <td>1.176639</td>\n",
       "      <td>50.325524</td>\n",
       "      <td>1771.786927</td>\n",
       "      <td>1709.525</td>\n",
       "      <td>1647.263073</td>\n",
       "    </tr>\n",
       "  </tbody>\n",
       "</table>\n",
       "</div>"
      ],
      "text/plain": [
       "            PX_LAST  PX_HIGH  PX_LOW  PX_OPEN  PX_VOLUME     SMA20    SMA50  \\\n",
       "date                                                                          \n",
       "2004-03-11   1689.0   1690.0  1660.0   1667.0     1515.0  1707.625  1666.95   \n",
       "2004-03-12   1664.5   1691.0  1663.0   1691.0     1152.0  1704.850  1667.86   \n",
       "2004-03-15   1673.0   1676.0  1662.0   1671.0      636.0  1702.175  1669.02   \n",
       "2004-03-16   1692.0   1695.0  1675.0   1683.0     1029.0  1699.575  1670.70   \n",
       "2004-03-17   1668.0   1697.0  1665.0   1688.0      850.0  1696.000  1672.06   \n",
       "\n",
       "                  EMA20        EMA50        ADX      MACD  MACD_SIG  \\\n",
       "date                                                                  \n",
       "2004-03-11  1688.307137  1673.987500  35.887244 -2.583332  7.677975   \n",
       "2004-03-12  1686.039790  1673.615441  33.664713 -2.777353  5.586910   \n",
       "2004-03-15  1684.797905  1673.591306  31.553195 -4.094295  3.650669   \n",
       "2004-03-16  1685.483819  1674.313216  30.383330 -3.563759  2.207783   \n",
       "2004-03-17  1683.818694  1674.065639  28.791736 -2.947939  1.176639   \n",
       "\n",
       "                  RSI        upper       mid        lower  \n",
       "date                                                       \n",
       "2004-03-11  47.792100  1785.940857  1720.425  1654.909143  \n",
       "2004-03-12  48.080923  1785.431428  1718.725  1652.018572  \n",
       "2004-03-15  44.136615  1784.832383  1715.925  1647.017617  \n",
       "2004-03-16  49.758799  1781.555225  1713.425  1645.294775  \n",
       "2004-03-17  50.325524  1771.786927  1709.525  1647.263073  "
      ]
     },
     "execution_count": 7,
     "metadata": {},
     "output_type": "execute_result"
    }
   ],
   "source": [
    "df.dropna(inplace=True)\n",
    "df.head()"
   ]
  },
  {
   "cell_type": "markdown",
   "id": "a1f2a1cc-8bd8-427b-b1d4-9142f4345716",
   "metadata": {},
   "source": [
    "### 2. Data processing for modeling"
   ]
  },
  {
   "cell_type": "code",
   "execution_count": 8,
   "id": "550790cd-f11f-40b8-b955-e8aee1eedeb5",
   "metadata": {},
   "outputs": [
    {
     "data": {
      "text/plain": [
       "((5395, 11), (5395,))"
      ]
     },
     "execution_count": 8,
     "metadata": {},
     "output_type": "execute_result"
    }
   ],
   "source": [
    "# X, y = df.drop(columns=['PX_LAST']), df.PX_LAST.values\n",
    "X, y = df.drop(columns=['PX_LAST', 'PX_HIGH', 'PX_LOW', 'PX_OPEN', 'PX_VOLUME']), df.PX_LAST.values\n",
    "X.shape, y.shape"
   ]
  },
  {
   "cell_type": "code",
   "execution_count": 9,
   "id": "531725be-8616-415d-b068-749411d16e06",
   "metadata": {},
   "outputs": [],
   "source": [
    "# split a multivariate sequence past, future samples (X and y)\n",
    "def split_sequences(input_sequences, output_sequence, n_steps_in, n_steps_out):\n",
    "    X, y = list(), list() # instantiate X and y\n",
    "    for i in range(len(input_sequences)):\n",
    "        # find the end of the input, output sequence\n",
    "        end_ix = i + n_steps_in\n",
    "        out_end_ix = end_ix + n_steps_out\n",
    "        # check if we are beyond the dataset\n",
    "        if out_end_ix > len(input_sequences): break\n",
    "        # gather input and output of the pattern\n",
    "        seq_x, seq_y = input_sequences[i:end_ix], output_sequence[end_ix:out_end_ix, -1]\n",
    "        X.append(seq_x), y.append(seq_y)\n",
    "    return np.array(X), np.array(y)"
   ]
  },
  {
   "cell_type": "code",
   "execution_count": 10,
   "id": "480378c1-ec71-444c-976d-d991b89a1234",
   "metadata": {},
   "outputs": [
    {
     "name": "stdout",
     "output_type": "stream",
     "text": [
      "(5395, 11) (5395, 1) (5356, 30, 11) (5356, 10)\n"
     ]
    }
   ],
   "source": [
    "mm = MinMaxScaler()\n",
    "ss = StandardScaler()\n",
    "\n",
    "X_trans = ss.fit_transform(X)\n",
    "y_trans = mm.fit_transform(y.reshape(-1, 1))\n",
    "\n",
    "# Use input sequence of 30 to predict 10-day return\n",
    "X_ss, y_mm = split_sequences(X_trans, y_trans, 30, 10)\n",
    "print(X_trans.shape, y_trans.shape, X_ss.shape, y_mm.shape)"
   ]
  },
  {
   "cell_type": "code",
   "execution_count": 11,
   "id": "b19443f0-7efa-40a0-9487-abe5162a4a8d",
   "metadata": {},
   "outputs": [
    {
     "name": "stdout",
     "output_type": "stream",
     "text": [
      "Training Shape: (5125, 30, 11) (5125, 10)\n",
      "Testing Shape: (231, 30, 11) (231, 10)\n"
     ]
    }
   ],
   "source": [
    "total_samples = len(X)\n",
    "train_test_cutoff = round(0.95 * total_samples)\n",
    "\n",
    "X_train = X_ss[:train_test_cutoff]\n",
    "X_test = X_ss[train_test_cutoff:]\n",
    "\n",
    "y_train = y_mm[:train_test_cutoff]\n",
    "y_test = y_mm[train_test_cutoff:] \n",
    "\n",
    "print(\"Training Shape:\", X_train.shape, y_train.shape)\n",
    "print(\"Testing Shape:\", X_test.shape, y_test.shape)"
   ]
  },
  {
   "cell_type": "code",
   "execution_count": 12,
   "id": "d7083cce-4e8c-4a9a-a0c7-41fe53ae0190",
   "metadata": {},
   "outputs": [],
   "source": [
    "# convert to pytorch tensors\n",
    "X_train_tensors = torch.Tensor(X_train)\n",
    "X_test_tensors = torch.Tensor(X_test)\n",
    "\n",
    "y_train_tensors = torch.Tensor(y_train)\n",
    "y_test_tensors = torch.Tensor(y_test)"
   ]
  },
  {
   "cell_type": "code",
   "execution_count": 13,
   "id": "ace82760-f29b-464a-9cf5-211dcd29113a",
   "metadata": {},
   "outputs": [
    {
     "name": "stdout",
     "output_type": "stream",
     "text": [
      "Training Shape: torch.Size([5125, 30, 11]) torch.Size([5125, 10])\n",
      "Testing Shape: torch.Size([231, 30, 11]) torch.Size([231, 10])\n"
     ]
    }
   ],
   "source": [
    "# reshape to rows, timestamps, features\n",
    "X_train_tensors_final = torch.reshape(X_train_tensors,   \n",
    "                                      (X_train_tensors.shape[0], 30, \n",
    "                                       X_train_tensors.shape[2]))\n",
    "X_test_tensors_final = torch.reshape(X_test_tensors,  \n",
    "                                     (X_test_tensors.shape[0], 30, \n",
    "                                      X_test_tensors.shape[2])) \n",
    "\n",
    "print(\"Training Shape:\", X_train_tensors_final.shape, y_train_tensors.shape)\n",
    "print(\"Testing Shape:\", X_test_tensors_final.shape, y_test_tensors.shape)"
   ]
  },
  {
   "cell_type": "markdown",
   "id": "49f0a666-1ee1-4704-bc6d-fe1f2ac792e9",
   "metadata": {},
   "source": [
    "### 3. LSTM model"
   ]
  },
  {
   "cell_type": "code",
   "execution_count": 14,
   "id": "16b28adf-8de4-4dce-8078-4015a7130ed2",
   "metadata": {},
   "outputs": [],
   "source": [
    "class LSTM(nn.Module):\n",
    "    \n",
    "    def __init__(self, num_classes, input_size, hidden_size, num_layers):\n",
    "        super().__init__()\n",
    "        self.num_classes = num_classes # output size\n",
    "        self.num_layers = num_layers # number of recurrent layers in the lstm\n",
    "        self.input_size = input_size # input size\n",
    "        self.hidden_size = hidden_size # neurons in each lstm layer\n",
    "        # LSTM model\n",
    "        self.lstm = nn.LSTM(input_size=input_size, hidden_size=hidden_size,\n",
    "                            num_layers=num_layers, batch_first=True) # lstm\n",
    "        self.fc_1 =  nn.Linear(hidden_size, 128) # fully connected \n",
    "        self.fc_2 = nn.Linear(128, num_classes) # fully connected last layer\n",
    "        self.relu = nn.ReLU()\n",
    "        \n",
    "    def forward(self,x):\n",
    "        # hidden state\n",
    "        h_0 = torch.zeros(self.num_layers, x.size(0), self.hidden_size)\n",
    "        # cell state\n",
    "        c_0 = torch.zeros(self.num_layers, x.size(0), self.hidden_size)\n",
    "        # propagate input through LSTM\n",
    "        output, (hn, cn) = self.lstm(x, (h_0, c_0)) # (input, hidden, and internal state)\n",
    "        hn = hn.view(-1, self.hidden_size) # reshape the data for Dense layer next\n",
    "        out = self.relu(hn)\n",
    "        out = self.fc_1(out) # first dense\n",
    "        out = self.relu(out) # relu\n",
    "        out = self.fc_2(out) # final output\n",
    "        return out"
   ]
  },
  {
   "cell_type": "code",
   "execution_count": 15,
   "id": "d3f04b58-6c04-4db0-b01b-408f819ed2a5",
   "metadata": {},
   "outputs": [],
   "source": [
    "def training_loop(n_epochs, lstm, optimizer, loss_fn, X_train, y_train,\n",
    "                  X_test, y_test):\n",
    "\n",
    "    # Initialize a list to log training/validation losses\n",
    "    train_loss_logger = []\n",
    "    val_loss_logger = []\n",
    "    \n",
    "    for epoch in range(n_epochs):\n",
    "        lstm.train()\n",
    "        outputs = lstm.forward(X_train) # forward pass\n",
    "        \n",
    "        # calculate loss\n",
    "        loss = loss_fn(outputs, y_train)\n",
    "\n",
    "        optimizer.zero_grad()\n",
    "        loss.backward() \n",
    "        optimizer.step()\n",
    "\n",
    "        # Log the training loss\n",
    "        train_loss_logger.append(loss.item())\n",
    "        \n",
    "        # validation loss\n",
    "        lstm.eval()\n",
    "        test_preds = lstm(X_test)\n",
    "        test_loss = loss_fn(test_preds, y_test)\n",
    "\n",
    "        # Log the validation loss\n",
    "        val_loss_logger.append(test_loss.item())\n",
    "        \n",
    "        if epoch % 100 == 0:\n",
    "            print(f\"Epoch: {epoch}, train loss: {loss.item(): .5f}, test loss: {test_loss.item(): .5f}\" )\n",
    "\n",
    "    return train_loss_logger, val_loss_logger"
   ]
  },
  {
   "cell_type": "markdown",
   "id": "0397535a-aef1-4c53-937e-627b88670f8c",
   "metadata": {},
   "source": [
    "#### 3.1 Define hyperparameters"
   ]
  },
  {
   "cell_type": "code",
   "execution_count": 16,
   "id": "42c6671a-71a4-480c-8556-90b1637225fb",
   "metadata": {},
   "outputs": [],
   "source": [
    "n_epochs = 1000\n",
    "learning_rate = 1e-4\n",
    "\n",
    "input_size = 11\n",
    "hidden_size = 64\n",
    "num_layers = 1\n",
    "\n",
    "num_classes = 10\n",
    "\n",
    "lstm = LSTM(num_classes, \n",
    "            input_size, \n",
    "            hidden_size, \n",
    "            num_layers)\n",
    "\n",
    "loss_fn = torch.nn.MSELoss()    # mean-squared error for regression\n",
    "optimizer = torch.optim.Adam(lstm.parameters(), lr=learning_rate)"
   ]
  },
  {
   "cell_type": "markdown",
   "id": "c9084ddf-ea06-4e0b-9702-2dae9174fc6a",
   "metadata": {},
   "source": [
    "#### 3.2 Model training"
   ]
  },
  {
   "cell_type": "code",
   "execution_count": 17,
   "id": "6795049c-0214-4620-a78d-826b97664d1d",
   "metadata": {},
   "outputs": [
    {
     "name": "stdout",
     "output_type": "stream",
     "text": [
      "Epoch: 0, train loss:  0.11447, test loss:  0.21777\n",
      "Epoch: 100, train loss:  0.03390, test loss:  0.06492\n",
      "Epoch: 200, train loss:  0.00452, test loss:  0.00263\n",
      "Epoch: 300, train loss:  0.00208, test loss:  0.00139\n",
      "Epoch: 400, train loss:  0.00120, test loss:  0.00105\n",
      "Epoch: 500, train loss:  0.00099, test loss:  0.00103\n",
      "Epoch: 600, train loss:  0.00091, test loss:  0.00101\n",
      "Epoch: 700, train loss:  0.00087, test loss:  0.00100\n",
      "Epoch: 800, train loss:  0.00084, test loss:  0.00098\n",
      "Epoch: 900, train loss:  0.00083, test loss:  0.00096\n"
     ]
    }
   ],
   "source": [
    "train_loss_logger, val_loss_logger = training_loop(n_epochs=n_epochs,\n",
    "                                                   lstm=lstm,\n",
    "                                                   optimizer=optimizer,\n",
    "                                                   loss_fn=loss_fn,\n",
    "                                                   X_train=X_train_tensors_final,\n",
    "                                                   y_train=y_train_tensors,\n",
    "                                                   X_test=X_test_tensors_final,\n",
    "                                                   y_test=y_test_tensors)"
   ]
  },
  {
   "cell_type": "code",
   "execution_count": 18,
   "id": "ae6b7901-4696-4258-a862-3eed354ecb9a",
   "metadata": {},
   "outputs": [
    {
     "data": {
      "image/png": "[encoded data removed]",
      "text/plain": [
       "<Figure size 1000x500 with 1 Axes>"
      ]
     },
     "metadata": {},
     "output_type": "display_data"
    }
   ],
   "source": [
    "plt.figure(figsize=(10, 5))\n",
    "plt.plot(train_loss_logger, label='Training loss')\n",
    "plt.plot(val_loss_logger, label='Validation loss')\n",
    "plt.title(\"Training & Validation Loss\")\n",
    "plt.legend()\n",
    "\n",
    "# Save the figure as a PNG file\n",
    "plt.savefig(\"./Results/Loss.png\")\n",
    "\n",
    "plt.show()"
   ]
  },
  {
   "cell_type": "markdown",
   "id": "3c1de82c-7aad-4ede-85c2-cfe1828f9852",
   "metadata": {},
   "source": [
    "### 4. Model prediction"
   ]
  },
  {
   "cell_type": "markdown",
   "id": "da8670a4-dc0b-4019-8514-767564177745",
   "metadata": {},
   "source": [
    "#### 4.1 Predict previous dates for compariosn and visualization"
   ]
  },
  {
   "cell_type": "code",
   "execution_count": 19,
   "id": "0c017f36-e997-479a-8dca-af221473f4ac",
   "metadata": {},
   "outputs": [
    {
     "data": {
      "text/plain": [
       "torch.Size([5356, 30, 11])"
      ]
     },
     "execution_count": 19,
     "metadata": {},
     "output_type": "execute_result"
    }
   ],
   "source": [
    "df_X_ss = ss.transform(df.drop(columns=['PX_LAST', 'PX_HIGH', 'PX_LOW', 'PX_OPEN', 'PX_VOLUME'])) # old transformers\n",
    "df_y_mm = mm.transform(df.PX_LAST.values.reshape(-1, 1)) # old transformers\n",
    "# split the sequence\n",
    "df_X_ss, df_y_mm = split_sequences(df_X_ss, df_y_mm, 30, 10)\n",
    "# convert to tensors\n",
    "df_X_ss = torch.Tensor(df_X_ss)\n",
    "df_y_mm = torch.Tensor(df_y_mm)\n",
    "# reshape the dataset\n",
    "df_X_ss = torch.reshape(df_X_ss, (df_X_ss.shape[0], 30, df_X_ss.shape[2]))\n",
    "\n",
    "df_X_ss.shape"
   ]
  },
  {
   "cell_type": "code",
   "execution_count": 20,
   "id": "c1087d10-73b9-4159-9278-c2eaf31c0628",
   "metadata": {},
   "outputs": [
    {
     "data": {
      "image/png": "[encoded data removed]",
      "text/plain": [
       "<Figure size 1000x500 with 1 Axes>"
      ]
     },
     "metadata": {},
     "output_type": "display_data"
    }
   ],
   "source": [
    "lstm.eval()\n",
    "\n",
    "# Predict previous dates for compariosn and visualization\n",
    "train_predict = lstm(df_X_ss) # forward pass\n",
    "data_predict = train_predict.data.numpy() # numpy conversion\n",
    "dataY_plot = df_y_mm.data.numpy()\n",
    "\n",
    "data_predict = mm.inverse_transform(data_predict) # reverse transformation\n",
    "dataY_plot = mm.inverse_transform(dataY_plot)\n",
    "true, preds = [], []\n",
    "for i in range(len(dataY_plot)):\n",
    "    true.append(dataY_plot[i][0])\n",
    "for i in range(len(data_predict)):\n",
    "    preds.append(data_predict[i][0])\n",
    "    \n",
    "plt.figure(figsize=(10,5))\n",
    "plt.axvline(df.index[-len(y_test)], c='r', linestyle='--', label='Train/Validation')\n",
    "plt.plot(df.index[-len(true):], true, label='Actual Data') # actual plot\n",
    "plt.plot(df.index[-len(true):], preds, label='Predicted Data') # predicted plot\n",
    "plt.xlabel(\"Year\")\n",
    "plt.ylabel(\"Price (USD)\")\n",
    "plt.title(\"{} Price Over Time\".format(datasets[dataset_idx]))\n",
    "plt.legend()\n",
    "\n",
    "# Save the figure as a PNG file\n",
    "plt.savefig(\"./Results/Comparison.png\")\n",
    "\n",
    "plt.show()"
   ]
  },
  {
   "cell_type": "code",
   "execution_count": 21,
   "id": "03aa4426-a354-4eab-a92a-60443a208526",
   "metadata": {},
   "outputs": [],
   "source": [
    "# Save the model's state_dict\n",
    "PATH = \"./Model/LSTM_with_Indicators.pth\"\n",
    "torch.save(lstm.state_dict(), PATH)"
   ]
  },
  {
   "cell_type": "markdown",
   "id": "0a913fda-7462-4a0a-9f97-4da38fab1aad",
   "metadata": {},
   "source": [
    "#### 4.2 Predict prices of future 10 days"
   ]
  },
  {
   "cell_type": "code",
   "execution_count": 22,
   "id": "cd073d94-2b87-4cdc-8bbb-a0413e606e04",
   "metadata": {},
   "outputs": [
    {
     "data": {
      "text/plain": [
       "LSTM(\n",
       "  (lstm): LSTM(11, 64, batch_first=True)\n",
       "  (fc_1): Linear(in_features=64, out_features=128, bias=True)\n",
       "  (fc_2): Linear(in_features=128, out_features=10, bias=True)\n",
       "  (relu): ReLU()\n",
       ")"
      ]
     },
     "execution_count": 22,
     "metadata": {},
     "output_type": "execute_result"
    }
   ],
   "source": [
    "# Instantiate the model\n",
    "lstm = LSTM(num_classes, \n",
    "            input_size, \n",
    "            hidden_size, \n",
    "            num_layers)\n",
    "\n",
    "# Load the saved state_dict\n",
    "PATH = \"./Model/LSTM_with_Indicators.pth\"\n",
    "lstm.load_state_dict(torch.load(PATH))\n",
    "\n",
    "# Set the model to evaluation mode (important for inference)\n",
    "lstm.eval()"
   ]
  },
  {
   "cell_type": "code",
   "execution_count": 23,
   "id": "012ee923-026e-450a-8aec-c5369ea4ab75",
   "metadata": {},
   "outputs": [
    {
     "name": "stdout",
     "output_type": "stream",
     "text": [
      "Testing Shape: torch.Size([1, 30, 11])\n"
     ]
    }
   ],
   "source": [
    "# use last 30 days as input sequence\n",
    "X_last = X[-30 : ]\n",
    "X_last = ss.fit_transform(X_last)\n",
    "\n",
    "# convert to pytorch tensors\n",
    "X_last_tensors = torch.Tensor(X_last).unsqueeze(0)\n",
    "\n",
    "# reshaping to rows, timestamps, features\n",
    "X_last_tensors = torch.reshape(X_last_tensors, \n",
    "                               (X_last_tensors.shape[0], 30, \n",
    "                                X_last_tensors.shape[2]))\n",
    "\n",
    "print(\"Testing Shape:\", X_last_tensors.shape)"
   ]
  },
  {
   "cell_type": "code",
   "execution_count": 24,
   "id": "08ad065e-84d1-48e0-9ac7-4a785e5de80d",
   "metadata": {},
   "outputs": [
    {
     "data": {
      "image/png": "[encoded data removed]",
      "text/plain": [
       "<Figure size 1000x500 with 1 Axes>"
      ]
     },
     "metadata": {},
     "output_type": "display_data"
    }
   ],
   "source": [
    "# predict prices of future 10 days\n",
    "lstm.eval()\n",
    "\n",
    "test_predict = lstm(X_last_tensors)\n",
    "test_predict = test_predict.detach().numpy()\n",
    "test_predict = mm.inverse_transform(test_predict)\n",
    "test_predict = test_predict[0].tolist()\n",
    "\n",
    "plt.figure(figsize=(10,5))\n",
    "plt.plot(df.index[-100:], df.PX_LAST.iloc[-100:], label='Actual Data')\n",
    "plt.plot([df.index[-1] + datetime.timedelta(days=i) for i in range(11)], [df.PX_LAST.iloc[-1]] + test_predict, label='Predicted 10 Days')\n",
    "plt.axvline(x=df.index[-1], c='r', linestyle='--')\n",
    "plt.xlabel(\"Year\")\n",
    "plt.ylabel(\"Price (USD)\")\n",
    "plt.title(\"{} Price Over Time\".format(datasets[dataset_idx]))\n",
    "plt.legend()\n",
    "\n",
    "# Save the figure as a PNG file\n",
    "plt.savefig(\"./Results/Prediction.png\")\n",
    "\n",
    "plt.show()"
   ]
  }
 ],
 "metadata": {
  "kernelspec": {
   "display_name": "Python 3 (ipykernel)",
   "language": "python",
   "name": "python3"
  },
  "language_info": {
   "codemirror_mode": {
    "name": "ipython",
    "version": 3
   },
   "file_extension": ".py",
   "mimetype": "text/x-python",
   "name": "python",
   "nbconvert_exporter": "python",
   "pygments_lexer": "ipython3",
   "version": "3.12.11"
  }
 },
 "nbformat": 4,
 "nbformat_minor": 5
}
